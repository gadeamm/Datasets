{
  "nbformat": 4,
  "nbformat_minor": 0,
  "metadata": {
    "colab": {
      "provenance": [],
      "gpuType": "V5E1",
      "machine_shape": "hm"
    },
    "kernelspec": {
      "name": "python3",
      "display_name": "Python 3"
    },
    "language_info": {
      "name": "python"
    },
  "cells": [
    {
      "cell_type": "markdown",
      "source": [
        "### **Descarga y preprocesamiento del dataset**"
      ],
      "metadata": {
        "id": "H1YVbqyPuP-8"
      }
    },
    {
      "cell_type": "markdown",
      "source": [
        "\n",
        "\n",
        "1.   **Instalación del paquete datasets de Hugging Face**\n"
      ],
      "metadata": {
        "id": "CiPQZnVL-2eQ"
      }
    },
    {
      "cell_type": "code",
      "execution_count": null,
      "metadata": {
        "colab": {
          "base_uri": "https://localhost:8080/"
        },
        "id": "8ujvZBnZZxSG",
        "outputId": "1ae29161-28ad-440a-e467-1e971380571c"
      },
      "outputs": [
        {
          "output_type": "stream",
          "name": "stdout",
          "text": [
            "Collecting datasets\n",
            "  Downloading datasets-3.6.0-py3-none-any.whl.metadata (19 kB)\n",
            "Requirement already satisfied: filelock in /usr/local/lib/python3.11/dist-packages (from datasets) (3.18.0)\n",
            "Requirement already satisfied: numpy>=1.17 in /usr/local/lib/python3.11/dist-packages (from datasets) (2.0.2)\n",
            "Requirement already satisfied: pyarrow>=15.0.0 in /usr/local/lib/python3.11/dist-packages (from datasets) (20.0.0)\n",
            "Collecting dill<0.3.9,>=0.3.0 (from datasets)\n",
            "  Downloading dill-0.3.8-py3-none-any.whl.metadata (10 kB)\n",
            "Requirement already satisfied: pandas in /usr/local/lib/python3.11/dist-packages (from datasets) (2.2.2)\n",
            "Requirement already satisfied: requests>=2.32.2 in /usr/local/lib/python3.11/dist-packages (from datasets) (2.32.3)\n",
            "Requirement already satisfied: tqdm>=4.66.3 in /usr/local/lib/python3.11/dist-packages (from datasets) (4.67.1)\n",
            "Collecting xxhash (from datasets)\n",
            "  Downloading xxhash-3.5.0-cp311-cp311-manylinux_2_17_x86_64.manylinux2014_x86_64.whl.metadata (12 kB)\n",
            "Collecting multiprocess<0.70.17 (from datasets)\n",
            "  Downloading multiprocess-0.70.16-py311-none-any.whl.metadata (7.2 kB)\n",
            "Collecting fsspec<=2025.3.0,>=2023.1.0 (from fsspec[http]<=2025.3.0,>=2023.1.0->datasets)\n",
            "  Downloading fsspec-2025.3.0-py3-none-any.whl.metadata (11 kB)\n",
            "Requirement already satisfied: huggingface-hub>=0.24.0 in /usr/local/lib/python3.11/dist-packages (from datasets) (0.31.2)\n",
            "Requirement already satisfied: packaging in /usr/local/lib/python3.11/dist-packages (from datasets) (25.0)\n",
            "Requirement already satisfied: pyyaml>=5.1 in /usr/local/lib/python3.11/dist-packages (from datasets) (6.0.2)\n",
            "Requirement already satisfied: aiohttp!=4.0.0a0,!=4.0.0a1 in /usr/local/lib/python3.11/dist-packages (from fsspec[http]<=2025.3.0,>=2023.1.0->datasets) (3.11.15)\n",
            "Requirement already satisfied: typing-extensions>=3.7.4.3 in /usr/local/lib/python3.11/dist-packages (from huggingface-hub>=0.24.0->datasets) (4.13.2)\n",
            "Requirement already satisfied: charset-normalizer<4,>=2 in /usr/local/lib/python3.11/dist-packages (from requests>=2.32.2->datasets) (3.4.2)\n",
            "Requirement already satisfied: idna<4,>=2.5 in /usr/local/lib/python3.11/dist-packages (from requests>=2.32.2->datasets) (3.10)\n",
            "Requirement already satisfied: urllib3<3,>=1.21.1 in /usr/local/lib/python3.11/dist-packages (from requests>=2.32.2->datasets) (2.4.0)\n",
            "Requirement already satisfied: certifi>=2017.4.17 in /usr/local/lib/python3.11/dist-packages (from requests>=2.32.2->datasets) (2025.4.26)\n",
            "Requirement already satisfied: python-dateutil>=2.8.2 in /usr/local/lib/python3.11/dist-packages (from pandas->datasets) (2.9.0.post0)\n",
            "Requirement already satisfied: pytz>=2020.1 in /usr/local/lib/python3.11/dist-packages (from pandas->datasets) (2025.2)\n",
            "Requirement already satisfied: tzdata>=2022.7 in /usr/local/lib/python3.11/dist-packages (from pandas->datasets) (2025.2)\n",
            "Requirement already satisfied: aiohappyeyeballs>=2.3.0 in /usr/local/lib/python3.11/dist-packages (from aiohttp!=4.0.0a0,!=4.0.0a1->fsspec[http]<=2025.3.0,>=2023.1.0->datasets) (2.6.1)\n",
            "Requirement already satisfied: aiosignal>=1.1.2 in /usr/local/lib/python3.11/dist-packages (from aiohttp!=4.0.0a0,!=4.0.0a1->fsspec[http]<=2025.3.0,>=2023.1.0->datasets) (1.3.2)\n",
            "Requirement already satisfied: attrs>=17.3.0 in /usr/local/lib/python3.11/dist-packages (from aiohttp!=4.0.0a0,!=4.0.0a1->fsspec[http]<=2025.3.0,>=2023.1.0->datasets) (25.3.0)\n",
            "Requirement already satisfied: frozenlist>=1.1.1 in /usr/local/lib/python3.11/dist-packages (from aiohttp!=4.0.0a0,!=4.0.0a1->fsspec[http]<=2025.3.0,>=2023.1.0->datasets) (1.6.0)\n",
            "Requirement already satisfied: multidict<7.0,>=4.5 in /usr/local/lib/python3.11/dist-packages (from aiohttp!=4.0.0a0,!=4.0.0a1->fsspec[http]<=2025.3.0,>=2023.1.0->datasets) (6.4.3)\n",
            "Requirement already satisfied: propcache>=0.2.0 in /usr/local/lib/python3.11/dist-packages (from aiohttp!=4.0.0a0,!=4.0.0a1->fsspec[http]<=2025.3.0,>=2023.1.0->datasets) (0.3.1)\n",
            "Requirement already satisfied: yarl<2.0,>=1.17.0 in /usr/local/lib/python3.11/dist-packages (from aiohttp!=4.0.0a0,!=4.0.0a1->fsspec[http]<=2025.3.0,>=2023.1.0->datasets) (1.20.0)\n",
            "Requirement already satisfied: six>=1.5 in /usr/local/lib/python3.11/dist-packages (from python-dateutil>=2.8.2->pandas->datasets) (1.17.0)\n",
            "Downloading datasets-3.6.0-py3-none-any.whl (491 kB)\n",
            "\u001b[2K   \u001b[90m━━━━━━━━━━━━━━━━━━━━━━━━━━━━━━━━━━━━━━━━\u001b[0m \u001b[32m491.5/491.5 kB\u001b[0m \u001b[31m9.3 MB/s\u001b[0m eta \u001b[36m0:00:00\u001b[0m\n",
            "\u001b[?25hDownloading dill-0.3.8-py3-none-any.whl (116 kB)\n",
            "\u001b[2K   \u001b[90m━━━━━━━━━━━━━━━━━━━━━━━━━━━━━━━━━━━━━━━━\u001b[0m \u001b[32m116.3/116.3 kB\u001b[0m \u001b[31m10.8 MB/s\u001b[0m eta \u001b[36m0:00:00\u001b[0m\n",
            "\u001b[?25hDownloading fsspec-2025.3.0-py3-none-any.whl (193 kB)\n",
            "\u001b[2K   \u001b[90m━━━━━━━━━━━━━━━━━━━━━━━━━━━━━━━━━━━━━━━━\u001b[0m \u001b[32m193.6/193.6 kB\u001b[0m \u001b[31m15.9 MB/s\u001b[0m eta \u001b[36m0:00:00\u001b[0m\n",
            "\u001b[?25hDownloading multiprocess-0.70.16-py311-none-any.whl (143 kB)\n",
            "\u001b[2K   \u001b[90m━━━━━━━━━━━━━━━━━━━━━━━━━━━━━━━━━━━━━━━━\u001b[0m \u001b[32m143.5/143.5 kB\u001b[0m \u001b[31m4.2 MB/s\u001b[0m eta \u001b[36m0:00:00\u001b[0m\n",
            "\u001b[?25hDownloading xxhash-3.5.0-cp311-cp311-manylinux_2_17_x86_64.manylinux2014_x86_64.whl (194 kB)\n",
            "\u001b[2K   \u001b[90m━━━━━━━━━━━━━━━━━━━━━━━━━━━━━━━━━━━━━━━━\u001b[0m \u001b[32m194.8/194.8 kB\u001b[0m \u001b[31m4.5 MB/s\u001b[0m eta \u001b[36m0:00:00\u001b[0m\n",
            "\u001b[?25hInstalling collected packages: xxhash, fsspec, dill, multiprocess, datasets\n",
            "  Attempting uninstall: fsspec\n",
            "    Found existing installation: fsspec 2025.3.2\n",
            "    Uninstalling fsspec-2025.3.2:\n",
            "      Successfully uninstalled fsspec-2025.3.2\n",
            "Successfully installed datasets-3.6.0 dill-0.3.8 fsspec-2025.3.0 multiprocess-0.70.16 xxhash-3.5.0\n"
          ]
        }
      ],
      "source": [
        "!pip install datasets"
      ]
    },
    {
      "cell_type": "markdown",
      "source": [
        "\n",
        "2.   **Cargamos el dataset**\n",
        "\n",
        "\n"
      ],
      "metadata": {
        "id": "qDxrsFWl_FNH"
      }
    },
    {
      "cell_type": "code",
      "source": [
        "from datasets import load_dataset\n",
        "\n",
        "dataset = load_dataset('withalim/bluesky-posts')"
      ],
      "metadata": {
        "colab": {
          "base_uri": "https://localhost:8080/",
          "height": 909,
          "referenced_widgets": [
            "165002f5c2544b5fa7a85c22c657a52b",
            "2bd4549b5321473183cbdffcfe5c6f7b",
            "adc10576d9ae4bc79fb2c7c0375cfa48",
            "8e577933025e436cbcb777940233235f",
            "3864de1b8b984bafa470bcf45c86102f",
            "9a44bc9bd1c5423fba66fd93857b8c7e",
            "89105f2be15743f8913aaea74a7c7ca8",
            "1b030e2db96d47d7beeb27f9623d91fa",
            "68d93bdc1524446b8bcc57ffd75b0c48",
            "f938098b337940a39493925aa61483d1",
            "35c69af2fe3a420aa04077a199c86b19",
            "9047899829a540109b4aadfab01d8d43",
            "fde7acfab151499e8e8b7147088f8af1",
            "982840f5b25a466781f3811bb1d4bb9f",
            "520c9f70d4a94720b2654bff474552ff",
            "50c5ae1e0a8c4643b56594c1a32b9326",
            "fedbeea7386b4a879e140225fe18d59a",
            "51138f7c597040db918876564b69eeed",
            "55667bd286e748408d99363764fb2ce2",
            "91b388f2af1544d499d56d112e962c79",
            "b297dd6dd42f487ca546a0a9b583ad18",
            "9e68e368265c48838d44ad85e32ddec5",
            "6f127413e2b6428e90cab46bf6c21a63",
            "bc50d68c24e94c9c8184349177ce60c8",
            "075e49ce72f14f62ace56908363f5673",
            "75bd1fc09c4b48f9bd2df859ac54e33f",
            "cbce4d711f0d4e9cb7eae2627f4c2691",
            "f8837b3ae4274bf8841df918477b359b",
            "f84c2dc5d5e841f78b2af792a1184822",
            "2ad3d00b49c54226b53121a443c718b0",
            "5ea3ecaddf2240bb891711b2a4a158fd",
            "f3cd3b32ca7f4c9283be90a0fef1abbe",
            "ea5117670a014e7b8bff4a1d31bb7bef",
            "f4703354620641458a2e332f7b040acc",
            "63183d49cf2a49749689885acc043ba2",
            "aff88fabd243474bb4a378fbaaa21f19",
            "7c8bad2194184e81a802b5c95404f0d5",
            "10a63b4304524933b50940bb95e48378",
            "f4c20b9ab25946e1b058f1b787d0f5cc",
            "3b59ce78b67540838d621f50b4f5ea27",
            "416b54179fcf470880ec2fa35df17634",
            "524ba1b4cf0a4483aca5bd7f0fff4983",
            "b4630b68047f4589aaa2ae36d1609b41",
            "da4a57d3fdee4b3a84ded1179eae82d9",
            "a13dc65193864985a54b1ed57b56f4c8",
            "8b1e0b96ccc94f45ba950ca8522f77bf",
            "c357eae441e54c449b80d9b61b8605f7",
            "cdfebb2b9627438da5cd3a59a0bed45f",
            "e68aa3082fcf4575aeb8282fe5a3e79c",
            "de7f1e76c91d483ca9b0ecd8d266ba79",
            "5825bcf94a6a4458a0ec618dcc22659f",
            "4a2cf119c4eb461996ab127d569fa60d",
            "5915490075724c468386331faa123b01",
            "10e9cfc1a4224cc4b84dab1366ac38be",
            "dd18b365c6b64482b22c22f16d094f8f",
            "9032b1a7b79748de9d02062b139dd221",
            "2a2f8b39e5f549538acfe3dfd1e71cbc",
            "43477d5ce72149a6a6c0938eb2a84477",
            "67469e1c9c7a4a7bad72f5ad81897e6b",
            "597ad1f9624e49879206af761ecc2957",
            "196c915d6351479784f70f63aa00760d",
            "56858972db57480ca6e136b9c2cfbe9f",
            "e6f079a2a9724ce0af02f99c6efb4729",
            "db5d2f50aec54e9f9861171b67b22956",
            "46785f816d57471aaa287b0af0843f89",
            "c04e694f23b54ccf8bf8b8e418745f22",
            "333f65b5b7684a1ab15e5faf6794f3b1",
            "8dd0aa7659f4400fb32a0963b157ce98",
            "e48f966fe903427d95a6f7e9c28a8377",
            "c8ec6fad9f114d41877e5a69efba6874",
            "6576292223554465853a64149ca6a8b9",
            "578a274a5a4348dd9a4abe8d964c67b6",
            "0455714df3b045b38ee280e7021a5f56",
            "5826f91663d04b799330bf1768db9081",
            "e262dcdcbab8495aac080aa9403c1210",
            "edd3b8f0971744eabbd25eafe4dfac39",
            "2de38528d9a14626b6da18e8e7562049",
            "b88d8eb838024e30aff77cf1e069901f",
            "d22b8cbde2a740d5ac08cf58a12edd1a",
            "60a80047746f4e63a38f6c7fdc49f193",
            "2a3446010297414cbd1939354567157c",
            "e6231a81d5b040c7b8f183e8ec7a55b8",
            "1b9410816bf141a181b728ed6c4b2f62",
            "ef5d55e773dd48ba93a40cfc54a3872f",
            "87ff1ef6676441859d1418413a8c4769",
            "517f09dbf1ba48cdaa2eb1bda505016f",
            "acaf54da4145429da47ad6f892a2fa5e",
            "f725d67adf06480b873599e3cdfb6903",
            "740f6cf99b8249f090ae81345e5f4dff",
            "08ea84b596b548118b623df96781d5fb",
            "e881efeac6d241479f74ba6d4d00a3ae",
            "e5b080be4b914e65866d9c01f25fd00d",
            "df5f87df61094cdea5673fed420f0d0c",
            "b62d8a0d887c4d5398432803469a07df",
            "e9249390bc8248758722d1c05d45930c",
            "127e1c9b327e45028e0565e0d2aea927",
            "c2d67a03835c4780bfda86e1c7f376b9",
            "523f85bacc334764af29ae3419536fcf",
            "fd8547ae3a7e4d7bad13a01bf284570d",
            "38549c58ebf646069de2ba6ee54f05f2",
            "854d0d20d50f44deb94b7b5376fdf69c",
            "1b9032e2b64148b2af36c65d04c80eb2",
            "ef82bf08e9614267885ba1f65999120d",
            "df5039eee4734fe3afe32c2ec4a1091f",
            "f4a462586733485db6381207901e649e",
            "f196592884ba432b941c6a11a73b8f47",
            "30de5ce971244242b10b11c6b1247cfb",
            "77aa22d526bd4e038a031592013699fb",
            "306b02a601854e4b8e568da9d25af92a",
            "1a050e1a4f0c4035a2e1bab061e23d16",
            "a1a627d176a742699c8a292ccce033ac",
            "9b1fbcf10ec34fd2ab40519eb3e01503",
            "d2516ee07ca1411db15434dd078fcb10",
            "c59784dec1e34cd0ad672930241064d9",
            "180e8777f0f34e94872633164adbac9f",
            "c0579270b32d4ada9a16b407add62580",
            "d11454691e014376970b9322d0e875df",
            "fb87a2ad9de240dbbfeb29506cf39ace",
            "c4478474de2b409fa1c3defdadcc78cd",
            "9b58fc3b592a41daba9a7f268296b628",
            "505392e696564546aeb5f42a7b3adc9b",
            "2be948bd8c54401a8e14d1c34c58efcd",
            "8b5e677f1a594913b76e54a551296f8c",
            "eedaab84569044a28470f5a95026d176",
            "cfcede179a8b4138a3afa6c36b4c290e",
            "e6fbdaff9c1e4b67b14fc040ea45b566",
            "6a9151592d2e413aa2acdbe4eb67d3a0",
            "ca08899fbcf34b63a7fff22908f17fb9",
            "b31bab3131854722bb11da370f6b39e4",
            "cd58a5250a6547dc95b1247134aa5320",
            "b516c93db9c94a39b1e1f49caa46b397",
            "217fb0dcdc2e4bd3b5c00aa7a64168bc",
            "337d65d6136a461d840738eb2f31a26d",
            "d19681cef5d142b1b8550569f6344347",
            "2ada6d69b3524c2ba9945d9558c944e4",
            "b8cd81b197744886a08902b8ee12b6f0",
            "9e81a6500bac4d318131566fbd36b5f8",
            "92a2926dbd544702b60a7668396e1cdc",
            "1c72cf8dca1d4f25a2ae66b8b3786422",
            "91b8a67f9e69491989e1cf54b00b3113",
            "50e1682e7e564d30895c4522fe5333ff",
            "e4095aed618d4bdd94b9c43ebb5ea975",
            "f7c147dd490e41ec82d47498537a4b7a",
            "9a5002d91c794d08a45d4bc064b64711",
            "25d967d875ab4f9796c2019f3ffc9782",
            "51cbe8959f6e4da8b9565029e4e05c04",
            "29cf09f3a75549cf9e4fcad1f9a74587",
            "f85f9029a7834c30a00904f45de213b6",
            "093e83e834c341779c10ac4d49789cd6",
            "fb9253e80d364f5fb1ae8b46e7f78a40",
            "6898e8685f5c4c848f9db829bfe1ea46",
            "b0785f8b0aad4e2888dd527c003a456e",
            "6abd09d7a7604969866be2c63c776360",
            "3810f2c4a04f4ecf8bb621aa25d086b9",
            "ad1e5eec8d6c463eae338b4dbedfcce8",
            "f68ba5caf71645a691d7fd808ad179f8",
            "48d47243780b4c9eb8d66c5331bcbb21",
            "d92ddb1c18cf44858d258cfb88f2fbef",
            "79516b41ad1f45b78ed0f12e1c461843",
            "d34b1eea15874e40a0cc87449ee94531",
            "e349fdb136304400b64a344af5e7b569",
            "bd27dda28e1141be80ea14f52c000fb7",
            "6ef4938b9e4e49ad80b4f956b0eaf154",
            "bee1146e68694ce182b5c81db94aaaa2",
            "9023edf32e33428286769ce7d6c7c329",
            "5e5673c442e24a9eb125e3140d3d040b",
            "838481fc2b9a497da4f8e32940cd2310",
            "d0ef8b6da5374922ac53a42e72e5cc54",
            "29342b162a4041dc87f4a6147594c1d0",
            "c9c5358e40de4ba080f54ac5d1cb17f7",
            "40e010210fa2444aa5bdd62494109d52",
            "5872365e31d74abaa5fe7c7ea112a808",
            "1bd7132e1d884a4aa1cdd7a9194cd75a",
            "c433dcf2204448878d295e30e29a0ffe",
            "7f4bf65305ec4b1bb8e9d28beda57ccd",
            "19eed6a575684a09965c5f51a3bf1d4a",
            "d3b4c26b65954dfdbf0208526b81f2f5",
            "bc32293c82c34b2183824f38ebc8d70d",
            "b97d8aa8bd36428b955f0cd4e73882ce",
            "b593bc78fa2347ab86030d53bf5d93e8",
            "bd9ab7944677421bac783711edbd1d8a",
            "33161df6676a490c98de5156cdd49a6f",
            "4bf01392f7f845eb98412a976c24e374",
            "d3081ecd49954c31b6fd4e01db353051",
            "f4cdb1dc108e439790c2a1adef43cace",
            "91d268af4c47401ead000356710174af",
            "042a1e10314c4d3cb7642ccdcd89737d",
            "20638a4cccf441da955557e495b247bf",
            "a799370fad6b4f17863deccd4efbade0",
            "88e869657bd649c08b798838012dc0fe",
            "14f3ff455537451e819be6cba35bc720",
            "c40e3970b4ce4f98a33393ca7ca13346",
            "f5d16c7b5ea3435ca24580bb41d71f3c",
            "2dbab7d7f4de43d2a5b41fb72ab56913",
            "13736ad929b34336a03393e3643c1c22",
            "7c45a8c7669f434f896e5c7524ba00cc",
            "d9ce960a01754df6b5e445bea32e1b00",
            "8af7793d5ab14e2e81f148e62f160995",
            "d77cc34e5f354dcfae2c5914b6639769",
            "549d0adbbae04aedbc2f5889b24758fd",
            "ca009463e5dc47009b2d8de8bbdb2e2f",
            "5ef19a41fa6549408b872dae04fd5c4d",
            "f2330f80bba945fea713ed1e7607df51",
            "e871dd3b8e2a49f59e75d316a591a47c",
            "9d686213d7b841809fc7a1a7bff2d6f1",
            "cece76fad002421f9ce38d459b250d9b",
            "59464d8c4f554cf2a5f23c985b53de01",
            "434d0b9c98eb4782bafd173820230e1b",
            "4bd99f2250b94a40826f83d933a22bd0",
            "852fcccb15f0413281b91cc09b05ab13",
            "a80d6bb4c43641b1b816a3ee6a2f7e28",
            "da1ad10f63754c219b191c3694295417",
            "1bf1d12be3d5419789b46e58a60b242f",
            "6c22e9701d4148079c280ab25b2f4ebe",
            "28f0c83619f346d19a14dd7aa46bb3ab",
            "fe6f5ce322094099aacab2495dad08de",
            "f4a2995c2a6f4396ac7d179d3617ab1d",
            "1a4e23a87c2b494abaf1ead8ed5f1bd6",
            "f81cbb6d7ddc45d7ada25815b4c04de8",
            "2bd8f97eed97414cb6c6215e9a2523c3",
            "78fcd33a40784a7aaac03513dd39124d",
            "d56abb786f434039be13320f99afd3bd",
            "56bfbaddb794448380699fd2958821a6",
            "eb27165173244e71aa74fee26a9c041a",
            "e941f977ef1c4a7b842c5bfbef9460f9",
            "119d33a26d2f412dac6f8551a7e6afcd",
            "2a7206622d9b440db98985bad1f43bad",
            "84da4811f14042bda67e766caeb50741",
            "dad2035c8ae64dd8afb15fcf842c8d27",
            "816c7669b61845babdfedb2f8bcf93a3",
            "85634174973243f8934176962030a093",
            "403921340be5469eb6580197b0b8602e",
            "2cf79675d26e41d3ac62a098bba5d44f",
            "0fe654d2c4724ef0b9bb8b59dc6ff826",
            "1deeb9b89e58490e95d451c89fbaf9de",
            "7169ee59405b42fb8dd5fee949ab0a34",
            "169ac974b5ec4b05838a2660273b43b0",
            "99284c65cc3d4cf89275da7120120687",
            "e8f4e7db133742e5ad7886251a9ea0e2",
            "9a73f327fb9e4980b363f049b4f47a76",
            "d5c402d614e14e50b634b0ba41be25e4",
            "fe2b33ec54ff423496a39cb11e4f8508",
            "380d9462d5af47a68f8e05a3495256fc",
            "3f3a3d9d0e5a47859f5a3c1cab7a8c2a",
            "2bc336a21bfe4f668eca32ca54d4210b",
            "b42b411d807a4061895bc9ecbf3e02fa",
            "81de0279741246989c9b436e29fd6722",
            "04bde86f711847c8b2a0a351f3f8f004",
            "a5c219d620ad4174bbcaafac1176097f",
            "6f924bb3cbc04d00991073f67ca42495",
            "d1a87814f94c40869de23c1c1533c804",
            "6952f2b089d04644a1d908ae2eee2010",
            "8b36148a22784c42a323df38d8bd532a",
            "9738b09ac39143cda663e04b3731fc53",
            "c832de9794b6407c9a79405496c0ee4f",
            "25d794ee8fdb4d619ed4dcecbad91ed4",
            "081da9d59f7c4d6c805c6703cfb095c1",
            "2ea24eb94278481da2efa9727f232665",
            "206d465fcace481a848d6c10ef1f466c",
            "f8902f9b731148d19aba16915f280445",
            "8735c0b4ebea4ee49be04cd8778c7621",
            "cd39f99136c4406b84235bea70545cb4",
            "185beb90d8844ca49359838c0a26119f",
            "5b3f2ae887c84c8bb5144e5fb4b6c89c"
          ]
        },
        "id": "PVPMXD1PZ7Zd",
        "outputId": "e7b8d069-864f-4a1e-cae6-0fbc7885bad8"
      },
      "execution_count": null,
      "outputs": [
        {
          "output_type": "stream",
          "name": "stderr",
          "text": [
            "/usr/local/lib/python3.11/dist-packages/huggingface_hub/utils/_auth.py:94: UserWarning: \n",
            "The secret `HF_TOKEN` does not exist in your Colab secrets.\n",
            "To authenticate with the Hugging Face Hub, create a token in your settings tab (https://huggingface.co/settings/tokens), set it as secret in your Google Colab and restart your session.\n",
            "You will be able to reuse this secret in all of your notebooks.\n",
            "Please note that authentication is recommended but still optional to access public models or datasets.\n",
            "  warnings.warn(\n"
          ]
        },
        {
          "output_type": "display_data",
          "data": {
            "text/plain": [
              "README.md:   0%|          | 0.00/2.10k [00:00<?, ?B/s]"
            ],
            "application/vnd.jupyter.widget-view+json": {
              "version_major": 2,
              "version_minor": 0,
              "model_id": "165002f5c2544b5fa7a85c22c657a52b"
            }
          },
          "metadata": {}
        },
        {
          "output_type": "display_data",
          "data": {
            "text/plain": [
              "Resolving data files:   0%|          | 0/21 [00:00<?, ?it/s]"
            ],
            "application/vnd.jupyter.widget-view+json": {
              "version_major": 2,
              "version_minor": 0,
              "model_id": "9047899829a540109b4aadfab01d8d43"
            }
          },
          "metadata": {}
        },
        {
          "output_type": "display_data",
          "data": {
            "text/plain": [
              "Downloading data:   0%|          | 0/20 [00:00<?, ?files/s]"
            ],
            "application/vnd.jupyter.widget-view+json": {
              "version_major": 2,
              "version_minor": 0,
              "model_id": "6f127413e2b6428e90cab46bf6c21a63"
            }
          },
          "metadata": {}
        },
        {
          "output_type": "display_data",
          "data": {
            "text/plain": [
              "posts_001.jsonl:   0%|          | 0.00/133M [00:00<?, ?B/s]"
            ],
            "application/vnd.jupyter.widget-view+json": {
              "version_major": 2,
              "version_minor": 0,
              "model_id": "f4703354620641458a2e332f7b040acc"
            }
          },
          "metadata": {}
        },
        {
          "output_type": "display_data",
          "data": {
            "text/plain": [
              "posts_002.jsonl:   0%|          | 0.00/137M [00:00<?, ?B/s]"
            ],
            "application/vnd.jupyter.widget-view+json": {
              "version_major": 2,
              "version_minor": 0,
              "model_id": "a13dc65193864985a54b1ed57b56f4c8"
            }
          },
          "metadata": {}
        },
        {
          "output_type": "display_data",
          "data": {
            "text/plain": [
              "posts_003.jsonl:   0%|          | 0.00/135M [00:00<?, ?B/s]"
            ],
            "application/vnd.jupyter.widget-view+json": {
              "version_major": 2,
              "version_minor": 0,
              "model_id": "9032b1a7b79748de9d02062b139dd221"
            }
          },
          "metadata": {}
        },
        {
          "output_type": "display_data",
          "data": {
            "text/plain": [
              "posts_004.jsonl:   0%|          | 0.00/133M [00:00<?, ?B/s]"
            ],
            "application/vnd.jupyter.widget-view+json": {
              "version_major": 2,
              "version_minor": 0,
              "model_id": "333f65b5b7684a1ab15e5faf6794f3b1"
            }
          },
          "metadata": {}
        },
        {
          "output_type": "display_data",
          "data": {
            "text/plain": [
              "posts_005.jsonl:   0%|          | 0.00/134M [00:00<?, ?B/s]"
            ],
            "application/vnd.jupyter.widget-view+json": {
              "version_major": 2,
              "version_minor": 0,
              "model_id": "b88d8eb838024e30aff77cf1e069901f"
            }
          },
          "metadata": {}
        },
        {
          "output_type": "display_data",
          "data": {
            "text/plain": [
              "posts_006.jsonl:   0%|          | 0.00/133M [00:00<?, ?B/s]"
            ],
            "application/vnd.jupyter.widget-view+json": {
              "version_major": 2,
              "version_minor": 0,
              "model_id": "740f6cf99b8249f090ae81345e5f4dff"
            }
          },
          "metadata": {}
        },
        {
          "output_type": "display_data",
          "data": {
            "text/plain": [
              "posts_007.jsonl:   0%|          | 0.00/133M [00:00<?, ?B/s]"
            ],
            "application/vnd.jupyter.widget-view+json": {
              "version_major": 2,
              "version_minor": 0,
              "model_id": "38549c58ebf646069de2ba6ee54f05f2"
            }
          },
          "metadata": {}
        },
        {
          "output_type": "display_data",
          "data": {
            "text/plain": [
              "posts_008.jsonl:   0%|          | 0.00/134M [00:00<?, ?B/s]"
            ],
            "application/vnd.jupyter.widget-view+json": {
              "version_major": 2,
              "version_minor": 0,
              "model_id": "a1a627d176a742699c8a292ccce033ac"
            }
          },
          "metadata": {}
        },
        {
          "output_type": "display_data",
          "data": {
            "text/plain": [
              "posts_009.jsonl:   0%|          | 0.00/134M [00:00<?, ?B/s]"
            ],
            "application/vnd.jupyter.widget-view+json": {
              "version_major": 2,
              "version_minor": 0,
              "model_id": "2be948bd8c54401a8e14d1c34c58efcd"
            }
          },
          "metadata": {}
        },
        {
          "output_type": "display_data",
          "data": {
            "text/plain": [
              "posts_010.jsonl:   0%|          | 0.00/137M [00:00<?, ?B/s]"
            ],
            "application/vnd.jupyter.widget-view+json": {
              "version_major": 2,
              "version_minor": 0,
              "model_id": "337d65d6136a461d840738eb2f31a26d"
            }
          },
          "metadata": {}
        },
        {
          "output_type": "display_data",
          "data": {
            "text/plain": [
              "posts_011.jsonl:   0%|          | 0.00/140M [00:00<?, ?B/s]"
            ],
            "application/vnd.jupyter.widget-view+json": {
              "version_major": 2,
              "version_minor": 0,
              "model_id": "9a5002d91c794d08a45d4bc064b64711"
            }
          },
          "metadata": {}
        },
        {
          "output_type": "display_data",
          "data": {
            "text/plain": [
              "posts_012.jsonl:   0%|          | 0.00/139M [00:00<?, ?B/s]"
            ],
            "application/vnd.jupyter.widget-view+json": {
              "version_major": 2,
              "version_minor": 0,
              "model_id": "ad1e5eec8d6c463eae338b4dbedfcce8"
            }
          },
          "metadata": {}
        },
        {
          "output_type": "display_data",
          "data": {
            "text/plain": [
              "posts_013.jsonl:   0%|          | 0.00/138M [00:00<?, ?B/s]"
            ],
            "application/vnd.jupyter.widget-view+json": {
              "version_major": 2,
              "version_minor": 0,
              "model_id": "5e5673c442e24a9eb125e3140d3d040b"
            }
          },
          "metadata": {}
        },
        {
          "output_type": "display_data",
          "data": {
            "text/plain": [
              "posts_014.jsonl:   0%|          | 0.00/138M [00:00<?, ?B/s]"
            ],
            "application/vnd.jupyter.widget-view+json": {
              "version_major": 2,
              "version_minor": 0,
              "model_id": "d3b4c26b65954dfdbf0208526b81f2f5"
            }
          },
          "metadata": {}
        },
        {
          "output_type": "display_data",
          "data": {
            "text/plain": [
              "posts_015.jsonl:   0%|          | 0.00/137M [00:00<?, ?B/s]"
            ],
            "application/vnd.jupyter.widget-view+json": {
              "version_major": 2,
              "version_minor": 0,
              "model_id": "20638a4cccf441da955557e495b247bf"
            }
          },
          "metadata": {}
        },
        {
          "output_type": "display_data",
          "data": {
            "text/plain": [
              "posts_016.jsonl:   0%|          | 0.00/136M [00:00<?, ?B/s]"
            ],
            "application/vnd.jupyter.widget-view+json": {
              "version_major": 2,
              "version_minor": 0,
              "model_id": "d77cc34e5f354dcfae2c5914b6639769"
            }
          },
          "metadata": {}
        },
        {
          "output_type": "display_data",
          "data": {
            "text/plain": [
              "posts_017.jsonl:   0%|          | 0.00/135M [00:00<?, ?B/s]"
            ],
            "application/vnd.jupyter.widget-view+json": {
              "version_major": 2,
              "version_minor": 0,
              "model_id": "852fcccb15f0413281b91cc09b05ab13"
            }
          },
          "metadata": {}
        },
        {
          "output_type": "display_data",
          "data": {
            "text/plain": [
              "posts_018.jsonl:   0%|          | 0.00/136M [00:00<?, ?B/s]"
            ],
            "application/vnd.jupyter.widget-view+json": {
              "version_major": 2,
              "version_minor": 0,
              "model_id": "78fcd33a40784a7aaac03513dd39124d"
            }
          },
          "metadata": {}
        },
        {
          "output_type": "display_data",
          "data": {
            "text/plain": [
              "posts_019.jsonl:   0%|          | 0.00/134M [00:00<?, ?B/s]"
            ],
            "application/vnd.jupyter.widget-view+json": {
              "version_major": 2,
              "version_minor": 0,
              "model_id": "403921340be5469eb6580197b0b8602e"
            }
          },
          "metadata": {}
        },
        {
          "output_type": "display_data",
          "data": {
            "text/plain": [
              "posts_020.jsonl:   0%|          | 0.00/137M [00:00<?, ?B/s]"
            ],
            "application/vnd.jupyter.widget-view+json": {
              "version_major": 2,
              "version_minor": 0,
              "model_id": "380d9462d5af47a68f8e05a3495256fc"
            }
          },
          "metadata": {}
        },
        {
          "output_type": "display_data",
          "data": {
            "text/plain": [
              "Generating train split:   0%|          | 0/7877660 [00:00<?, ? examples/s]"
            ],
            "application/vnd.jupyter.widget-view+json": {
              "version_major": 2,
              "version_minor": 0,
              "model_id": "9738b09ac39143cda663e04b3731fc53"
            }
          },
          "metadata": {}
        }
      ]
    },
    {
      "cell_type": "markdown",
      "source": [
        "3. **Convertir el dataset en un df seleccionando únicamente el primer millón de filas**\n",
        "\n"
      ],
      "metadata": {
        "id": "aHQQx8ZvAv30"
      }
    },
    {
      "cell_type": "code",
      "source": [
        "import pandas as pd\n",
        "\n",
        "data = dataset['train']\n",
        "\n",
        "# Convertir a pandas DataFrame\n",
        "df_original = data.to_pandas()\n",
        "\n",
        "# Limitar a 1 millón de filas\n",
        "df_subset = df_original.head(1_000_000)\n",
        "\n",
        "print(df_subset)"
      ],
      "metadata": {
        "colab": {
          "base_uri": "https://localhost:8080/"
        },
        "id": "UsMGMPd-CqQ1",
        "outputId": "a636ef5d-7079-4e98-adee-04af0781ba49"
      },
      "execution_count": null,
      "outputs": [
        {
          "output_type": "stream",
          "name": "stdout",
          "text": [
            "                                                     text  \\\n",
            "0                                                      yo   \n",
            "1                                                      :(   \n",
            "2                                                    test   \n",
            "3                            I posted this 100 years ago!   \n",
            "4                                                    Nope   \n",
            "...                                                   ...   \n",
            "999995  Israel has proven untrustworthy by violating t...   \n",
            "999996  Might just be my favourite character, he's so ...   \n",
            "999997  Drop the names of some others I’m always eager...   \n",
            "999998  It’s possible they haven’t seen a woman in the...   \n",
            "999999                           Happy Birthday Jupy! 🥳❤️   \n",
            "\n",
            "                      created_at                        author  \\\n",
            "0       1001-01-11T01:11:11.804Z            jarivi.bsky.social   \n",
            "1           1492-05-29T14:26:34Z            pawlos.bsky.social   \n",
            "2       1813-11-29T14:05:40.096Z           val9000.bsky.social   \n",
            "3           1924-11-30T09:40:00Z          justanotherenemy.com   \n",
            "4       1947-11-29T14:24:00.001Z           val9000.bsky.social   \n",
            "...                          ...                           ...   \n",
            "999995  2024-11-28T17:41:04.879Z     thelastsn1per.bsky.social   \n",
            "999996  2024-11-28T17:41:04.903Z      chutneyxcvii.bsky.social   \n",
            "999997  2024-11-28T17:41:04.933Z    thewatermuseum.bsky.social   \n",
            "999998  2024-11-28T17:41:04.958Z  normcorerockwell.bsky.social   \n",
            "999999  2024-11-28T17:41:04.975Z       cadabis.etheirys.social   \n",
            "\n",
            "                                                      uri  has_images  \\\n",
            "0       at://did:plc:kblt2p6hbypqurirkc723vht/app.bsky...       False   \n",
            "1       at://did:plc:qncafui27l2c5djobao5nebr/app.bsky...       False   \n",
            "2       at://did:plc:wgmc6qawor67h4tguhzph7gs/app.bsky...       False   \n",
            "3       at://did:plc:jr6bnkwh5ez3wezkuy4ergxj/app.bsky...       False   \n",
            "4       at://did:plc:wgmc6qawor67h4tguhzph7gs/app.bsky...       False   \n",
            "...                                                   ...         ...   \n",
            "999995  at://did:plc:yxn5wdkhtxq4ceh3cb5g7vub/app.bsky...       False   \n",
            "999996  at://did:plc:s3gi2opynwb4cqgpyw2qzhzw/app.bsky...       False   \n",
            "999997  at://did:plc:5zxmodlq4ejfv2s4zkifx7sa/app.bsky...       False   \n",
            "999998  at://did:plc:ndhek2pbbq2lt7zksiyqlamt/app.bsky...       False   \n",
            "999999  at://did:plc:cui7xmjnsg5wxp7a7ajuxcr6/app.bsky...       False   \n",
            "\n",
            "                                                 reply_to  \n",
            "0                                                    None  \n",
            "1       at://did:plc:uh3qfh2gozpm3twcoc7gammd/app.bsky...  \n",
            "2                                                    None  \n",
            "3                                                    None  \n",
            "4                                                    None  \n",
            "...                                                   ...  \n",
            "999995                                               None  \n",
            "999996  at://did:plc:6ctb477re3d3naftfhhgdiyu/app.bsky...  \n",
            "999997  at://did:plc:kjrauzcp67kqujq4357mlx67/app.bsky...  \n",
            "999998  at://did:plc:w2gaquyycdvwelhmgxo262lo/app.bsky...  \n",
            "999999  at://did:plc:enq6p4y27pfi6f4zvacmls77/app.bsky...  \n",
            "\n",
            "[1000000 rows x 6 columns]\n"
          ]
        }
      ]
    },
    {
      "cell_type": "markdown",
      "source": [
        "4. **Limpieza del df**"
      ],
      "metadata": {
        "id": "QxSkrR61EDDY"
      }
    },
    {
      "cell_type": "code",
      "source": [
        "# Eliminar la columna 'uri' y 'created_at'\n",
        "df_clean = df_subset.drop(columns=['uri', 'created_at'])\n",
        "\n",
        "df_clean.head(10)"
      ],
      "metadata": {
        "colab": {
          "base_uri": "https://localhost:8080/",
          "height": 380
        },
        "id": "bADg8gd4-ZNL",
        "outputId": "13c0b920-ed22-4dd8-c5b2-6a652cd48a2b"
      },
      "execution_count": null,
      "outputs": [
        {
          "output_type": "execute_result",
          "data": {
            "text/plain": [
              "                                                text  \\\n",
              "0                                                 yo   \n",
              "1                                                 :(   \n",
              "2                                               test   \n",
              "3                       I posted this 100 years ago!   \n",
              "4                                               Nope   \n",
              "5  スポーツに参加し、莉緒と同じチームになりました。莉緒はクールですが、実力は確かです。\\n\\n...   \n",
              "6        スポーツ活動中、莉緒はあなたに近づいてきて、何かを尋ねました。\\n\\n0 → 次に進む   \n",
              "7  Criador do script que movimenta a maior rede d...   \n",
              "8  Criador do script que movimenta a maior rede d...   \n",
              "9                                                      \n",
              "\n",
              "                      author  has_images  \\\n",
              "0         jarivi.bsky.social       False   \n",
              "1         pawlos.bsky.social       False   \n",
              "2        val9000.bsky.social       False   \n",
              "3       justanotherenemy.com       False   \n",
              "4        val9000.bsky.social       False   \n",
              "5          feed.shigepon.net       False   \n",
              "6          feed.shigepon.net       False   \n",
              "7    leiarcaica5.bsky.social       False   \n",
              "8    leiarcaica5.bsky.social       False   \n",
              "9  capta.systems.web.brid.gy       False   \n",
              "\n",
              "                                            reply_to  \n",
              "0                                               None  \n",
              "1  at://did:plc:uh3qfh2gozpm3twcoc7gammd/app.bsky...  \n",
              "2                                               None  \n",
              "3                                               None  \n",
              "4                                               None  \n",
              "5                                               None  \n",
              "6                                               None  \n",
              "7                                               None  \n",
              "8                                               None  \n",
              "9                                               None  "
            ],
            "text/html": [
              "\n",
              "  <div id=\"df-30091efd-c6db-450c-a91c-361803fdce0b\" class=\"colab-df-container\">\n",
              "    <div>\n",
              "<style scoped>\n",
              "    .dataframe tbody tr th:only-of-type {\n",
              "        vertical-align: middle;\n",
              "    }\n",
              "\n",
              "    .dataframe tbody tr th {\n",
              "        vertical-align: top;\n",
              "    }\n",
              "\n",
              "    .dataframe thead th {\n",
              "        text-align: right;\n",
              "    }\n",
              "</style>\n",
              "<table border=\"1\" class=\"dataframe\">\n",
              "  <thead>\n",
              "    <tr style=\"text-align: right;\">\n",
              "      <th></th>\n",
              "      <th>text</th>\n",
              "      <th>author</th>\n",
              "      <th>has_images</th>\n",
              "      <th>reply_to</th>\n",
              "    </tr>\n",
              "  </thead>\n",
              "  <tbody>\n",
              "    <tr>\n",
              "      <th>0</th>\n",
              "      <td>yo</td>\n",
              "      <td>jarivi.bsky.social</td>\n",
              "      <td>False</td>\n",
              "      <td>None</td>\n",
              "    </tr>\n",
              "    <tr>\n",
              "      <th>1</th>\n",
              "      <td>:(</td>\n",
              "      <td>pawlos.bsky.social</td>\n",
              "      <td>False</td>\n",
              "      <td>at://did:plc:uh3qfh2gozpm3twcoc7gammd/app.bsky...</td>\n",
              "    </tr>\n",
              "    <tr>\n",
              "      <th>2</th>\n",
              "      <td>test</td>\n",
              "      <td>val9000.bsky.social</td>\n",
              "      <td>False</td>\n",
              "      <td>None</td>\n",
              "    </tr>\n",
              "    <tr>\n",
              "      <th>3</th>\n",
              "      <td>I posted this 100 years ago!</td>\n",
              "      <td>justanotherenemy.com</td>\n",
              "      <td>False</td>\n",
              "      <td>None</td>\n",
              "    </tr>\n",
              "    <tr>\n",
              "      <th>4</th>\n",
              "      <td>Nope</td>\n",
              "      <td>val9000.bsky.social</td>\n",
              "      <td>False</td>\n",
              "      <td>None</td>\n",
              "    </tr>\n",
              "    <tr>\n",
              "      <th>5</th>\n",
              "      <td>スポーツに参加し、莉緒と同じチームになりました。莉緒はクールですが、実力は確かです。\\n\\n...</td>\n",
              "      <td>feed.shigepon.net</td>\n",
              "      <td>False</td>\n",
              "      <td>None</td>\n",
              "    </tr>\n",
              "    <tr>\n",
              "      <th>6</th>\n",
              "      <td>スポーツ活動中、莉緒はあなたに近づいてきて、何かを尋ねました。\\n\\n0 → 次に進む</td>\n",
              "      <td>feed.shigepon.net</td>\n",
              "      <td>False</td>\n",
              "      <td>None</td>\n",
              "    </tr>\n",
              "    <tr>\n",
              "      <th>7</th>\n",
              "      <td>Criador do script que movimenta a maior rede d...</td>\n",
              "      <td>leiarcaica5.bsky.social</td>\n",
              "      <td>False</td>\n",
              "      <td>None</td>\n",
              "    </tr>\n",
              "    <tr>\n",
              "      <th>8</th>\n",
              "      <td>Criador do script que movimenta a maior rede d...</td>\n",
              "      <td>leiarcaica5.bsky.social</td>\n",
              "      <td>False</td>\n",
              "      <td>None</td>\n",
              "    </tr>\n",
              "    <tr>\n",
              "      <th>9</th>\n",
              "      <td></td>\n",
              "      <td>capta.systems.web.brid.gy</td>\n",
              "      <td>False</td>\n",
              "      <td>None</td>\n",
              "    </tr>\n",
              "  </tbody>\n",
              "</table>\n",
              "</div>\n",
              "    <div class=\"colab-df-buttons\">\n",
              "\n",
              "  <div class=\"colab-df-container\">\n",
              "    <button class=\"colab-df-convert\" onclick=\"convertToInteractive('df-30091efd-c6db-450c-a91c-361803fdce0b')\"\n",
              "            title=\"Convert this dataframe to an interactive table.\"\n",
              "            style=\"display:none;\">\n",
              "\n",
              "  <svg xmlns=\"http://www.w3.org/2000/svg\" height=\"24px\" viewBox=\"0 -960 960 960\">\n",
              "    <path d=\"M120-120v-720h720v720H120Zm60-500h600v-160H180v160Zm220 220h160v-160H400v160Zm0 220h160v-160H400v160ZM180-400h160v-160H180v160Zm440 0h160v-160H620v160ZM180-180h160v-160H180v160Zm440 0h160v-160H620v160Z\"/>\n",
              "  </svg>\n",
              "    </button>\n",
              "\n",
              "  <style>\n",
              "    .colab-df-container {\n",
              "      display:flex;\n",
              "      gap: 12px;\n",
              "    }\n",
              "\n",
              "    .colab-df-convert {\n",
              "      background-color: #E8F0FE;\n",
              "      border: none;\n",
              "      border-radius: 50%;\n",
              "      cursor: pointer;\n",
              "      display: none;\n",
              "      fill: #1967D2;\n",
              "      height: 32px;\n",
              "      padding: 0 0 0 0;\n",
              "      width: 32px;\n",
              "    }\n",
              "\n",
              "    .colab-df-convert:hover {\n",
              "      background-color: #E2EBFA;\n",
              "      box-shadow: 0px 1px 2px rgba(60, 64, 67, 0.3), 0px 1px 3px 1px rgba(60, 64, 67, 0.15);\n",
              "      fill: #174EA6;\n",
              "    }\n",
              "\n",
              "    .colab-df-buttons div {\n",
              "      margin-bottom: 4px;\n",
              "    }\n",
              "\n",
              "    [theme=dark] .colab-df-convert {\n",
              "      background-color: #3B4455;\n",
              "      fill: #D2E3FC;\n",
              "    }\n",
              "\n",
              "    [theme=dark] .colab-df-convert:hover {\n",
              "      background-color: #434B5C;\n",
              "      box-shadow: 0px 1px 3px 1px rgba(0, 0, 0, 0.15);\n",
              "      filter: drop-shadow(0px 1px 2px rgba(0, 0, 0, 0.3));\n",
              "      fill: #FFFFFF;\n",
              "    }\n",
              "  </style>\n",
              "\n",
              "    <script>\n",
              "      const buttonEl =\n",
              "        document.querySelector('#df-30091efd-c6db-450c-a91c-361803fdce0b button.colab-df-convert');\n",
              "      buttonEl.style.display =\n",
              "        google.colab.kernel.accessAllowed ? 'block' : 'none';\n",
              "\n",
              "      async function convertToInteractive(key) {\n",
              "        const element = document.querySelector('#df-30091efd-c6db-450c-a91c-361803fdce0b');\n",
              "        const dataTable =\n",
              "          await google.colab.kernel.invokeFunction('convertToInteractive',\n",
              "                                                    [key], {});\n",
              "        if (!dataTable) return;\n",
              "\n",
              "        const docLinkHtml = 'Like what you see? Visit the ' +\n",
              "          '<a target=\"_blank\" href=https://colab.research.google.com/notebooks/data_table.ipynb>data table notebook</a>'\n",
              "          + ' to learn more about interactive tables.';\n",
              "        element.innerHTML = '';\n",
              "        dataTable['output_type'] = 'display_data';\n",
              "        await google.colab.output.renderOutput(dataTable, element);\n",
              "        const docLink = document.createElement('div');\n",
              "        docLink.innerHTML = docLinkHtml;\n",
              "        element.appendChild(docLink);\n",
              "      }\n",
              "    </script>\n",
              "  </div>\n",
              "\n",
              "\n",
              "    <div id=\"df-eb620fb6-1c56-4ef3-b54a-ca41e6248155\">\n",
              "      <button class=\"colab-df-quickchart\" onclick=\"quickchart('df-eb620fb6-1c56-4ef3-b54a-ca41e6248155')\"\n",
              "                title=\"Suggest charts\"\n",
              "                style=\"display:none;\">\n",
              "\n",
              "<svg xmlns=\"http://www.w3.org/2000/svg\" height=\"24px\"viewBox=\"0 0 24 24\"\n",
              "     width=\"24px\">\n",
              "    <g>\n",
              "        <path d=\"M19 3H5c-1.1 0-2 .9-2 2v14c0 1.1.9 2 2 2h14c1.1 0 2-.9 2-2V5c0-1.1-.9-2-2-2zM9 17H7v-7h2v7zm4 0h-2V7h2v10zm4 0h-2v-4h2v4z\"/>\n",
              "    </g>\n",
              "</svg>\n",
              "      </button>\n",
              "\n",
              "<style>\n",
              "  .colab-df-quickchart {\n",
              "      --bg-color: #E8F0FE;\n",
              "      --fill-color: #1967D2;\n",
              "      --hover-bg-color: #E2EBFA;\n",
              "      --hover-fill-color: #174EA6;\n",
              "      --disabled-fill-color: #AAA;\n",
              "      --disabled-bg-color: #DDD;\n",
              "  }\n",
              "\n",
              "  [theme=dark] .colab-df-quickchart {\n",
              "      --bg-color: #3B4455;\n",
              "      --fill-color: #D2E3FC;\n",
              "      --hover-bg-color: #434B5C;\n",
              "      --hover-fill-color: #FFFFFF;\n",
              "      --disabled-bg-color: #3B4455;\n",
              "      --disabled-fill-color: #666;\n",
              "  }\n",
              "\n",
              "  .colab-df-quickchart {\n",
              "    background-color: var(--bg-color);\n",
              "    border: none;\n",
              "    border-radius: 50%;\n",
              "    cursor: pointer;\n",
              "    display: none;\n",
              "    fill: var(--fill-color);\n",
              "    height: 32px;\n",
              "    padding: 0;\n",
              "    width: 32px;\n",
              "  }\n",
              "\n",
              "  .colab-df-quickchart:hover {\n",
              "    background-color: var(--hover-bg-color);\n",
              "    box-shadow: 0 1px 2px rgba(60, 64, 67, 0.3), 0 1px 3px 1px rgba(60, 64, 67, 0.15);\n",
              "    fill: var(--button-hover-fill-color);\n",
              "  }\n",
              "\n",
              "  .colab-df-quickchart-complete:disabled,\n",
              "  .colab-df-quickchart-complete:disabled:hover {\n",
              "    background-color: var(--disabled-bg-color);\n",
              "    fill: var(--disabled-fill-color);\n",
              "    box-shadow: none;\n",
              "  }\n",
              "\n",
              "  .colab-df-spinner {\n",
              "    border: 2px solid var(--fill-color);\n",
              "    border-color: transparent;\n",
              "    border-bottom-color: var(--fill-color);\n",
              "    animation:\n",
              "      spin 1s steps(1) infinite;\n",
              "  }\n",
              "\n",
              "  @keyframes spin {\n",
              "    0% {\n",
              "      border-color: transparent;\n",
              "      border-bottom-color: var(--fill-color);\n",
              "      border-left-color: var(--fill-color);\n",
              "    }\n",
              "    20% {\n",
              "      border-color: transparent;\n",
              "      border-left-color: var(--fill-color);\n",
              "      border-top-color: var(--fill-color);\n",
              "    }\n",
              "    30% {\n",
              "      border-color: transparent;\n",
              "      border-left-color: var(--fill-color);\n",
              "      border-top-color: var(--fill-color);\n",
              "      border-right-color: var(--fill-color);\n",
              "    }\n",
              "    40% {\n",
              "      border-color: transparent;\n",
              "      border-right-color: var(--fill-color);\n",
              "      border-top-color: var(--fill-color);\n",
              "    }\n",
              "    60% {\n",
              "      border-color: transparent;\n",
              "      border-right-color: var(--fill-color);\n",
              "    }\n",
              "    80% {\n",
              "      border-color: transparent;\n",
              "      border-right-color: var(--fill-color);\n",
              "      border-bottom-color: var(--fill-color);\n",
              "    }\n",
              "    90% {\n",
              "      border-color: transparent;\n",
              "      border-bottom-color: var(--fill-color);\n",
              "    }\n",
              "  }\n",
              "</style>\n",
              "\n",
              "      <script>\n",
              "        async function quickchart(key) {\n",
              "          const quickchartButtonEl =\n",
              "            document.querySelector('#' + key + ' button');\n",
              "          quickchartButtonEl.disabled = true;  // To prevent multiple clicks.\n",
              "          quickchartButtonEl.classList.add('colab-df-spinner');\n",
              "          try {\n",
              "            const charts = await google.colab.kernel.invokeFunction(\n",
              "                'suggestCharts', [key], {});\n",
              "          } catch (error) {\n",
              "            console.error('Error during call to suggestCharts:', error);\n",
              "          }\n",
              "          quickchartButtonEl.classList.remove('colab-df-spinner');\n",
              "          quickchartButtonEl.classList.add('colab-df-quickchart-complete');\n",
              "        }\n",
              "        (() => {\n",
              "          let quickchartButtonEl =\n",
              "            document.querySelector('#df-eb620fb6-1c56-4ef3-b54a-ca41e6248155 button');\n",
              "          quickchartButtonEl.style.display =\n",
              "            google.colab.kernel.accessAllowed ? 'block' : 'none';\n",
              "        })();\n",
              "      </script>\n",
              "    </div>\n",
              "\n",
              "    </div>\n",
              "  </div>\n"
            ],
            "application/vnd.google.colaboratory.intrinsic+json": {
              "type": "dataframe",
              "variable_name": "df_clean"
            }
          },
          "metadata": {},
          "execution_count": 4
        }
      ]
    },
    {
      "cell_type": "code",
      "source": [
        "# Eliminar las filas donde la columna 'text' esté vacía (nula o con un string vacío)\n",
        "df_clean = df_clean[df_clean['text'].str.strip() != '']\n",
        "df_clean.head(10)"
      ],
      "metadata": {
        "colab": {
          "base_uri": "https://localhost:8080/",
          "height": 380
        },
        "id": "kaaB7LBaHygo",
        "outputId": "2cfcdf3a-463e-4358-84da-4da0283a0b0d"
      },
      "execution_count": null,
      "outputs": [
        {
          "output_type": "execute_result",
          "data": {
            "text/plain": [
              "                                                 text  \\\n",
              "0                                                  yo   \n",
              "1                                                  :(   \n",
              "2                                                test   \n",
              "3                        I posted this 100 years ago!   \n",
              "4                                                Nope   \n",
              "5   スポーツに参加し、莉緒と同じチームになりました。莉緒はクールですが、実力は確かです。\\n\\n...   \n",
              "6         スポーツ活動中、莉緒はあなたに近づいてきて、何かを尋ねました。\\n\\n0 → 次に進む   \n",
              "7   Criador do script que movimenta a maior rede d...   \n",
              "8   Criador do script que movimenta a maior rede d...   \n",
              "13                                          OH SHIT!!   \n",
              "\n",
              "                     author  has_images  \\\n",
              "0        jarivi.bsky.social       False   \n",
              "1        pawlos.bsky.social       False   \n",
              "2       val9000.bsky.social       False   \n",
              "3      justanotherenemy.com       False   \n",
              "4       val9000.bsky.social       False   \n",
              "5         feed.shigepon.net       False   \n",
              "6         feed.shigepon.net       False   \n",
              "7   leiarcaica5.bsky.social       False   \n",
              "8   leiarcaica5.bsky.social       False   \n",
              "13      val9000.bsky.social       False   \n",
              "\n",
              "                                             reply_to  \n",
              "0                                                None  \n",
              "1   at://did:plc:uh3qfh2gozpm3twcoc7gammd/app.bsky...  \n",
              "2                                                None  \n",
              "3                                                None  \n",
              "4                                                None  \n",
              "5                                                None  \n",
              "6                                                None  \n",
              "7                                                None  \n",
              "8                                                None  \n",
              "13                                               None  "
            ],
            "text/html": [
              "\n",
              "  <div id=\"df-6284034b-aa21-4839-a32a-be3139770344\" class=\"colab-df-container\">\n",
              "    <div>\n",
              "<style scoped>\n",
              "    .dataframe tbody tr th:only-of-type {\n",
              "        vertical-align: middle;\n",
              "    }\n",
              "\n",
              "    .dataframe tbody tr th {\n",
              "        vertical-align: top;\n",
              "    }\n",
              "\n",
              "    .dataframe thead th {\n",
              "        text-align: right;\n",
              "    }\n",
              "</style>\n",
              "<table border=\"1\" class=\"dataframe\">\n",
              "  <thead>\n",
              "    <tr style=\"text-align: right;\">\n",
              "      <th></th>\n",
              "      <th>text</th>\n",
              "      <th>author</th>\n",
              "      <th>has_images</th>\n",
              "      <th>reply_to</th>\n",
              "    </tr>\n",
              "  </thead>\n",
              "  <tbody>\n",
              "    <tr>\n",
              "      <th>0</th>\n",
              "      <td>yo</td>\n",
              "      <td>jarivi.bsky.social</td>\n",
              "      <td>False</td>\n",
              "      <td>None</td>\n",
              "    </tr>\n",
              "    <tr>\n",
              "      <th>1</th>\n",
              "      <td>:(</td>\n",
              "      <td>pawlos.bsky.social</td>\n",
              "      <td>False</td>\n",
              "      <td>at://did:plc:uh3qfh2gozpm3twcoc7gammd/app.bsky...</td>\n",
              "    </tr>\n",
              "    <tr>\n",
              "      <th>2</th>\n",
              "      <td>test</td>\n",
              "      <td>val9000.bsky.social</td>\n",
              "      <td>False</td>\n",
              "      <td>None</td>\n",
              "    </tr>\n",
              "    <tr>\n",
              "      <th>3</th>\n",
              "      <td>I posted this 100 years ago!</td>\n",
              "      <td>justanotherenemy.com</td>\n",
              "      <td>False</td>\n",
              "      <td>None</td>\n",
              "    </tr>\n",
              "    <tr>\n",
              "      <th>4</th>\n",
              "      <td>Nope</td>\n",
              "      <td>val9000.bsky.social</td>\n",
              "      <td>False</td>\n",
              "      <td>None</td>\n",
              "    </tr>\n",
              "    <tr>\n",
              "      <th>5</th>\n",
              "      <td>スポーツに参加し、莉緒と同じチームになりました。莉緒はクールですが、実力は確かです。\\n\\n...</td>\n",
              "      <td>feed.shigepon.net</td>\n",
              "      <td>False</td>\n",
              "      <td>None</td>\n",
              "    </tr>\n",
              "    <tr>\n",
              "      <th>6</th>\n",
              "      <td>スポーツ活動中、莉緒はあなたに近づいてきて、何かを尋ねました。\\n\\n0 → 次に進む</td>\n",
              "      <td>feed.shigepon.net</td>\n",
              "      <td>False</td>\n",
              "      <td>None</td>\n",
              "    </tr>\n",
              "    <tr>\n",
              "      <th>7</th>\n",
              "      <td>Criador do script que movimenta a maior rede d...</td>\n",
              "      <td>leiarcaica5.bsky.social</td>\n",
              "      <td>False</td>\n",
              "      <td>None</td>\n",
              "    </tr>\n",
              "    <tr>\n",
              "      <th>8</th>\n",
              "      <td>Criador do script que movimenta a maior rede d...</td>\n",
              "      <td>leiarcaica5.bsky.social</td>\n",
              "      <td>False</td>\n",
              "      <td>None</td>\n",
              "    </tr>\n",
              "    <tr>\n",
              "      <th>13</th>\n",
              "      <td>OH SHIT!!</td>\n",
              "      <td>val9000.bsky.social</td>\n",
              "      <td>False</td>\n",
              "      <td>None</td>\n",
              "    </tr>\n",
              "  </tbody>\n",
              "</table>\n",
              "</div>\n",
              "    <div class=\"colab-df-buttons\">\n",
              "\n",
              "  <div class=\"colab-df-container\">\n",
              "    <button class=\"colab-df-convert\" onclick=\"convertToInteractive('df-6284034b-aa21-4839-a32a-be3139770344')\"\n",
              "            title=\"Convert this dataframe to an interactive table.\"\n",
              "            style=\"display:none;\">\n",
              "\n",
              "  <svg xmlns=\"http://www.w3.org/2000/svg\" height=\"24px\" viewBox=\"0 -960 960 960\">\n",
              "    <path d=\"M120-120v-720h720v720H120Zm60-500h600v-160H180v160Zm220 220h160v-160H400v160Zm0 220h160v-160H400v160ZM180-400h160v-160H180v160Zm440 0h160v-160H620v160ZM180-180h160v-160H180v160Zm440 0h160v-160H620v160Z\"/>\n",
              "  </svg>\n",
              "    </button>\n",
              "\n",
              "  <style>\n",
              "    .colab-df-container {\n",
              "      display:flex;\n",
              "      gap: 12px;\n",
              "    }\n",
              "\n",
              "    .colab-df-convert {\n",
              "      background-color: #E8F0FE;\n",
              "      border: none;\n",
              "      border-radius: 50%;\n",
              "      cursor: pointer;\n",
              "      display: none;\n",
              "      fill: #1967D2;\n",
              "      height: 32px;\n",
              "      padding: 0 0 0 0;\n",
              "      width: 32px;\n",
              "    }\n",
              "\n",
              "    .colab-df-convert:hover {\n",
              "      background-color: #E2EBFA;\n",
              "      box-shadow: 0px 1px 2px rgba(60, 64, 67, 0.3), 0px 1px 3px 1px rgba(60, 64, 67, 0.15);\n",
              "      fill: #174EA6;\n",
              "    }\n",
              "\n",
              "    .colab-df-buttons div {\n",
              "      margin-bottom: 4px;\n",
              "    }\n",
              "\n",
              "    [theme=dark] .colab-df-convert {\n",
              "      background-color: #3B4455;\n",
              "      fill: #D2E3FC;\n",
              "    }\n",
              "\n",
              "    [theme=dark] .colab-df-convert:hover {\n",
              "      background-color: #434B5C;\n",
              "      box-shadow: 0px 1px 3px 1px rgba(0, 0, 0, 0.15);\n",
              "      filter: drop-shadow(0px 1px 2px rgba(0, 0, 0, 0.3));\n",
              "      fill: #FFFFFF;\n",
              "    }\n",
              "  </style>\n",
              "\n",
              "    <script>\n",
              "      const buttonEl =\n",
              "        document.querySelector('#df-6284034b-aa21-4839-a32a-be3139770344 button.colab-df-convert');\n",
              "      buttonEl.style.display =\n",
              "        google.colab.kernel.accessAllowed ? 'block' : 'none';\n",
              "\n",
              "      async function convertToInteractive(key) {\n",
              "        const element = document.querySelector('#df-6284034b-aa21-4839-a32a-be3139770344');\n",
              "        const dataTable =\n",
              "          await google.colab.kernel.invokeFunction('convertToInteractive',\n",
              "                                                    [key], {});\n",
              "        if (!dataTable) return;\n",
              "\n",
              "        const docLinkHtml = 'Like what you see? Visit the ' +\n",
              "          '<a target=\"_blank\" href=https://colab.research.google.com/notebooks/data_table.ipynb>data table notebook</a>'\n",
              "          + ' to learn more about interactive tables.';\n",
              "        element.innerHTML = '';\n",
              "        dataTable['output_type'] = 'display_data';\n",
              "        await google.colab.output.renderOutput(dataTable, element);\n",
              "        const docLink = document.createElement('div');\n",
              "        docLink.innerHTML = docLinkHtml;\n",
              "        element.appendChild(docLink);\n",
              "      }\n",
              "    </script>\n",
              "  </div>\n",
              "\n",
              "\n",
              "    <div id=\"df-1e086ae2-d4bd-4edd-8d92-badd14ada21f\">\n",
              "      <button class=\"colab-df-quickchart\" onclick=\"quickchart('df-1e086ae2-d4bd-4edd-8d92-badd14ada21f')\"\n",
              "                title=\"Suggest charts\"\n",
              "                style=\"display:none;\">\n",
              "\n",
              "<svg xmlns=\"http://www.w3.org/2000/svg\" height=\"24px\"viewBox=\"0 0 24 24\"\n",
              "     width=\"24px\">\n",
              "    <g>\n",
              "        <path d=\"M19 3H5c-1.1 0-2 .9-2 2v14c0 1.1.9 2 2 2h14c1.1 0 2-.9 2-2V5c0-1.1-.9-2-2-2zM9 17H7v-7h2v7zm4 0h-2V7h2v10zm4 0h-2v-4h2v4z\"/>\n",
              "    </g>\n",
              "</svg>\n",
              "      </button>\n",
              "\n",
              "<style>\n",
              "  .colab-df-quickchart {\n",
              "      --bg-color: #E8F0FE;\n",
              "      --fill-color: #1967D2;\n",
              "      --hover-bg-color: #E2EBFA;\n",
              "      --hover-fill-color: #174EA6;\n",
              "      --disabled-fill-color: #AAA;\n",
              "      --disabled-bg-color: #DDD;\n",
              "  }\n",
              "\n",
              "  [theme=dark] .colab-df-quickchart {\n",
              "      --bg-color: #3B4455;\n",
              "      --fill-color: #D2E3FC;\n",
              "      --hover-bg-color: #434B5C;\n",
              "      --hover-fill-color: #FFFFFF;\n",
              "      --disabled-bg-color: #3B4455;\n",
              "      --disabled-fill-color: #666;\n",
              "  }\n",
              "\n",
              "  .colab-df-quickchart {\n",
              "    background-color: var(--bg-color);\n",
              "    border: none;\n",
              "    border-radius: 50%;\n",
              "    cursor: pointer;\n",
              "    display: none;\n",
              "    fill: var(--fill-color);\n",
              "    height: 32px;\n",
              "    padding: 0;\n",
              "    width: 32px;\n",
              "  }\n",
              "\n",
              "  .colab-df-quickchart:hover {\n",
              "    background-color: var(--hover-bg-color);\n",
              "    box-shadow: 0 1px 2px rgba(60, 64, 67, 0.3), 0 1px 3px 1px rgba(60, 64, 67, 0.15);\n",
              "    fill: var(--button-hover-fill-color);\n",
              "  }\n",
              "\n",
              "  .colab-df-quickchart-complete:disabled,\n",
              "  .colab-df-quickchart-complete:disabled:hover {\n",
              "    background-color: var(--disabled-bg-color);\n",
              "    fill: var(--disabled-fill-color);\n",
              "    box-shadow: none;\n",
              "  }\n",
              "\n",
              "  .colab-df-spinner {\n",
              "    border: 2px solid var(--fill-color);\n",
              "    border-color: transparent;\n",
              "    border-bottom-color: var(--fill-color);\n",
              "    animation:\n",
              "      spin 1s steps(1) infinite;\n",
              "  }\n",
              "\n",
              "  @keyframes spin {\n",
              "    0% {\n",
              "      border-color: transparent;\n",
              "      border-bottom-color: var(--fill-color);\n",
              "      border-left-color: var(--fill-color);\n",
              "    }\n",
              "    20% {\n",
              "      border-color: transparent;\n",
              "      border-left-color: var(--fill-color);\n",
              "      border-top-color: var(--fill-color);\n",
              "    }\n",
              "    30% {\n",
              "      border-color: transparent;\n",
              "      border-left-color: var(--fill-color);\n",
              "      border-top-color: var(--fill-color);\n",
              "      border-right-color: var(--fill-color);\n",
              "    }\n",
              "    40% {\n",
              "      border-color: transparent;\n",
              "      border-right-color: var(--fill-color);\n",
              "      border-top-color: var(--fill-color);\n",
              "    }\n",
              "    60% {\n",
              "      border-color: transparent;\n",
              "      border-right-color: var(--fill-color);\n",
              "    }\n",
              "    80% {\n",
              "      border-color: transparent;\n",
              "      border-right-color: var(--fill-color);\n",
              "      border-bottom-color: var(--fill-color);\n",
              "    }\n",
              "    90% {\n",
              "      border-color: transparent;\n",
              "      border-bottom-color: var(--fill-color);\n",
              "    }\n",
              "  }\n",
              "</style>\n",
              "\n",
              "      <script>\n",
              "        async function quickchart(key) {\n",
              "          const quickchartButtonEl =\n",
              "            document.querySelector('#' + key + ' button');\n",
              "          quickchartButtonEl.disabled = true;  // To prevent multiple clicks.\n",
              "          quickchartButtonEl.classList.add('colab-df-spinner');\n",
              "          try {\n",
              "            const charts = await google.colab.kernel.invokeFunction(\n",
              "                'suggestCharts', [key], {});\n",
              "          } catch (error) {\n",
              "            console.error('Error during call to suggestCharts:', error);\n",
              "          }\n",
              "          quickchartButtonEl.classList.remove('colab-df-spinner');\n",
              "          quickchartButtonEl.classList.add('colab-df-quickchart-complete');\n",
              "        }\n",
              "        (() => {\n",
              "          let quickchartButtonEl =\n",
              "            document.querySelector('#df-1e086ae2-d4bd-4edd-8d92-badd14ada21f button');\n",
              "          quickchartButtonEl.style.display =\n",
              "            google.colab.kernel.accessAllowed ? 'block' : 'none';\n",
              "        })();\n",
              "      </script>\n",
              "    </div>\n",
              "\n",
              "    </div>\n",
              "  </div>\n"
            ],
            "application/vnd.google.colaboratory.intrinsic+json": {
              "type": "dataframe",
              "variable_name": "df_clean"
            }
          },
          "metadata": {},
          "execution_count": 5
        }
      ]
    },
    {
      "cell_type": "code",
      "source": [
        "num_filas = df_clean.shape[0]\n",
        "print(f\"Número de filas: {num_filas}\")"
      ],
      "metadata": {
        "colab": {
          "base_uri": "https://localhost:8080/"
        },
        "id": "dF8Ws4hGl4dW",
        "outputId": "03838306-f742-4c4a-d628-cad331eabe78"
      },
      "execution_count": null,
      "outputs": [
        {
          "output_type": "stream",
          "name": "stdout",
          "text": [
            "Número de filas: 971921\n"
          ]
        }
      ]
    },
    {
      "cell_type": "markdown",
      "source": [
        "6. **Descarga del archivo limpio como csv**"
      ],
      "metadata": {
        "id": "K7qGm5woERW0"
      }
    },
    {
      "cell_type": "code",
      "source": [
        "df_clean.to_csv('df_clean.csv', index=False)"
      ],
      "metadata": {
        "id": "KnUOynYfhyiw"
      },
      "execution_count": null,
      "outputs": []
    }
  ]
}